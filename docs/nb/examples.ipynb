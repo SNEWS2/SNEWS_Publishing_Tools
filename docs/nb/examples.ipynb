{
 "cells": [
  {
   "cell_type": "markdown",
   "id": "4c491567",
   "metadata": {},
   "source": [
    "# Examples of `snews_pt` usage"
   ]
  },
  {
   "cell_type": "markdown",
   "id": "935f417b",
   "metadata": {},
   "source": [
    "Last updated: 11/12/2023 <br>\n",
    "This notebook contains the most basic publication and subscription examples."
   ]
  },
  {
   "cell_type": "markdown",
   "id": "f6d67ae3",
   "metadata": {},
   "source": [
    "## Subscription"
   ]
  },
  {
   "cell_type": "code",
   "execution_count": 1,
   "id": "0ea6d89a",
   "metadata": {
    "pycharm": {
     "name": "#%%\n"
    }
   },
   "outputs": [
    {
     "name": "stdout",
     "output_type": "stream",
     "text": [
      "You are subscribing to \u001b[41m\u001b[1mALERT\u001b[0m\n",
      "Broker:\u001b[42mkafka://kafka.scimma.org/snews.alert-firedrill\u001b[0m\n",
      "\u001b[32mDone\u001b[0m\n"
     ]
    }
   ],
   "source": [
    "from snews_pt.snews_sub import Subscriber\n",
    "\n",
    "Subscriber().subscribe()"
   ]
  },
  {
   "cell_type": "markdown",
   "id": "5993f74e",
   "metadata": {},
   "source": [
    "---\n",
    "# Publication"
   ]
  },
  {
   "cell_type": "markdown",
   "id": "6a557d61",
   "metadata": {},
   "source": [
    "Here we create a message to which we pass the following arguments; <br>\n",
    "`detector_name`, `machine_time`, `neutrino_time`, `p_val`, `p_values`,`t_bin_width` <br>\n",
    "As described in [Message Schema Section](https://snews-publishing-tools.readthedocs.io/en/latest/user/command_line_interface.html) of the documentation. The tiers are decided automatically by the scripts based on the input arguments passed. <br>\n",
    "\n",
    "Here the argument `neutrino_time` indicates that the message should be sent to \"Coincidence Tier\" for coincidence checks with the other experiments. <br>\n",
    "\n",
    "Similarly, the input arguments; `p_values` and `t_bin_width` indicates that the message should go to \"Significance Tier\" for combined significance computations. For more please refer to the documentations."
   ]
  },
  {
   "cell_type": "markdown",
   "id": "dafbf99a",
   "metadata": {},
   "source": [
    "## Old way"
   ]
  },
  {
   "cell_type": "code",
   "execution_count": 1,
   "id": "1709a9db",
   "metadata": {},
   "outputs": [],
   "source": [
    "# from snews_pt.snews_pub import SNEWSTiersPublisher\n",
    "# from datetime import  datetime\n",
    "\n",
    "# test_time = datetime.utcnow().isoformat()\n",
    "# message = SNEWSTiersPublisher(detector_name='LZ', machine_time=test_time, neutrino_time=test_time, p_val=0.0007, p_values=[0.0007,0.0008,0.0009],t_bin_width=0.07)\n",
    "# # print(message.message_data)\n",
    "# # print(message.tiernames)\n",
    "# # print('Sending message')\n",
    "# message.send_to_snews()"
   ]
  },
  {
   "cell_type": "markdown",
   "id": "eae871f7",
   "metadata": {},
   "source": [
    "## New construction"
   ]
  },
  {
   "cell_type": "code",
   "execution_count": 2,
   "id": "81f0b707",
   "metadata": {
    "pycharm": {
     "name": "#%%\n"
    }
   },
   "outputs": [],
   "source": [
    "from snews_pt import messages\n",
    "# import importlib\n",
    "# importlib.reload(messages)\n",
    "from datetime import datetime\n",
    "\n",
    "test_time = datetime.utcnow().isoformat()"
   ]
  },
  {
   "cell_type": "markdown",
   "id": "4b0d51ca",
   "metadata": {},
   "source": [
    "## Valid messages"
   ]
  },
  {
   "cell_type": "markdown",
   "id": "8150844a",
   "metadata": {},
   "source": [
    "**1) message from a valid detector with valid neutrino times and valid p values.**\n",
    "This creates two messages; CoincidenceTierMessage and SignificanceTierMessage"
   ]
  },
  {
   "cell_type": "code",
   "execution_count": 3,
   "id": "5a27a67e",
   "metadata": {
    "scrolled": false
   },
   "outputs": [
    {
     "data": {
      "text/plain": [
       "[\u001b[1mSNEWSCoincidenceTierMessage\n",
       " \u001b[0m---------------------------\n",
       " \u001b[91m            _id : LZ_CoincidenceTier_2023-12-11T15:53:19.155054\n",
       " \u001b[0m\u001b[91m schema_version : 1.3.0\n",
       " \u001b[0m\u001b[91m  detector_name : LZ\n",
       " \u001b[0m\u001b[30m   machine_time : 2023-12-11T15:53:19.155054\n",
       " \u001b[0m\u001b[94m\u001b[1m  neutrino_time : 2023-12-11T15:53:19.155054\n",
       " \u001b[0m\u001b[30m          p_val : 0.000\n",
       " \u001b[0m\u001b[30m        is_test : True\n",
       " \u001b[0m\u001b[96m       p_values : [0.0007, 0.0008, 0.0009]\n",
       " \u001b[0m\u001b[96m    t_bin_width : 0.07\n",
       " \u001b[0m,\n",
       " \u001b[1mSNEWSSignificanceTierMessage\n",
       " \u001b[0m----------------------------\n",
       " \u001b[91m            _id : LZ_SignificanceTier_2023-12-11T15:53:19.155054\n",
       " \u001b[0m\u001b[91m schema_version : 1.3.0\n",
       " \u001b[0m\u001b[91m  detector_name : LZ\n",
       " \u001b[0m\u001b[30m   machine_time : 2023-12-11T15:53:19.155054\n",
       " \u001b[0m\u001b[94m\u001b[1m       p_values : [0.0007, 0.0008, 0.0009]\n",
       " \u001b[0m\u001b[94m\u001b[1m    t_bin_width : 0.07\n",
       " \u001b[0m\u001b[30m        is_test : True\n",
       " \u001b[0m\u001b[96m  neutrino_time : 2023-12-11T15:53:19.155054\n",
       " \u001b[0m\u001b[96m          p_val : 0.000\n",
       " \u001b[0m]"
      ]
     },
     "execution_count": 3,
     "metadata": {},
     "output_type": "execute_result"
    }
   ],
   "source": [
    "msg = messages.SNEWSMessageBuilder(detector_name='LZ', \n",
    "                                   machine_time=test_time, \n",
    "                                   neutrino_time=test_time, \n",
    "                                   p_val=\"0.000\", \n",
    "                                   p_values=[0.0007,0.0008,0.0009],\n",
    "                                   t_bin_width=0.07, \n",
    "                                   is_test=True,)\n",
    "\n",
    "msg.messages"
   ]
  },
  {
   "cell_type": "markdown",
   "id": "deda9040",
   "metadata": {},
   "source": [
    "Above the color code refers to the <br>\n",
    "red:\"base\", (id, version, name) <br>\n",
    "blue:\"required\", (tier specific) <br>\n",
    "black:\"accepted\" (machine time, p value, retraction reason etc. known-nonrequired ones) and <br>\n",
    "green:\"meta\" field arguments."
   ]
  },
  {
   "cell_type": "code",
   "execution_count": 4,
   "id": "dff6f6f4",
   "metadata": {},
   "outputs": [
    {
     "data": {
      "text/plain": [
       "(['_id', 'schema_version', 'detector_name'],\n",
       " ['neutrino_time'],\n",
       " dict_keys(['p_values', 't_bin_width']))"
      ]
     },
     "execution_count": 4,
     "metadata": {},
     "output_type": "execute_result"
    }
   ],
   "source": [
    "# msg.messages[0].fields, \n",
    "msg.messages[0].basefields, msg.messages[0].reqfields, msg.messages[0].meta.keys()"
   ]
  },
  {
   "cell_type": "markdown",
   "id": "fedb9b1b",
   "metadata": {},
   "source": [
    "**2) Similarly, as long as the neutrino time iso-formattable** <br>\n",
    "Notice the neutrino time comes from the past but it is a test, and therefore ignored"
   ]
  },
  {
   "cell_type": "code",
   "execution_count": 5,
   "id": "051f5029",
   "metadata": {},
   "outputs": [
    {
     "data": {
      "text/plain": [
       "[\u001b[1mSNEWSCoincidenceTierMessage\n",
       " \u001b[0m---------------------------\n",
       " \u001b[91m            _id : LZ_CoincidenceTier_2023-12-11T15:53:19.155054\n",
       " \u001b[0m\u001b[91m schema_version : 1.3.0\n",
       " \u001b[0m\u001b[91m  detector_name : LZ\n",
       " \u001b[0m\u001b[30m   machine_time : 2023-12-11T15:53:19.155054\n",
       " \u001b[0m\u001b[94m\u001b[1m  neutrino_time : 2023-06-12T18:30:00\n",
       " \u001b[0m\u001b[30m          p_val : None\n",
       " \u001b[0m\u001b[30m        is_test : True\n",
       " \u001b[0m]"
      ]
     },
     "execution_count": 5,
     "metadata": {},
     "output_type": "execute_result"
    }
   ],
   "source": [
    "msg = messages.SNEWSMessageBuilder(detector_name='LZ', \n",
    "                          machine_time=test_time, \n",
    "                          neutrino_time=\"2023-06-12 18:30\", \n",
    "                          is_test=True)\n",
    "\n",
    "msg.messages"
   ]
  },
  {
   "cell_type": "markdown",
   "id": "32f807b9",
   "metadata": {},
   "source": [
    "## Invalid Messages"
   ]
  },
  {
   "cell_type": "markdown",
   "id": "e6327d9b",
   "metadata": {},
   "source": [
    "**1) With no valid argument**"
   ]
  },
  {
   "cell_type": "code",
   "execution_count": 6,
   "id": "43856ed4",
   "metadata": {},
   "outputs": [
    {
     "data": {
      "text/plain": [
       "SNEWSMessageBuilder:\n",
       "No messages have been built."
      ]
     },
     "execution_count": 6,
     "metadata": {},
     "output_type": "execute_result"
    }
   ],
   "source": [
    "msg = messages.SNEWSMessageBuilder(test=1)\n",
    "msg"
   ]
  },
  {
   "cell_type": "markdown",
   "id": "8c29fb5d",
   "metadata": {},
   "source": [
    "**2) unknown detector name**"
   ]
  },
  {
   "cell_type": "code",
   "execution_count": null,
   "id": "1cf2031b",
   "metadata": {},
   "outputs": [],
   "source": [
    "msg = messages.SNEWSMessageBuilder(detector_name='aseyhsreshdshdshsdgsdg', \n",
    "                                  machine_time=test_time, \n",
    "                                  neutrino_time=test_time, \n",
    "                                  p_val=0.0007, \n",
    "                                  p_values=[0.0007,0.0008,0.0009],\n",
    "                                  t_bin_width=0.07, \n",
    "                                  is_test=True)"
   ]
  },
  {
   "cell_type": "markdown",
   "id": "259152f5",
   "metadata": {},
   "source": [
    "**3) Neutrino time in the past and it is not a test message.**"
   ]
  },
  {
   "cell_type": "code",
   "execution_count": null,
   "id": "b0dcfb0e",
   "metadata": {},
   "outputs": [],
   "source": [
    "msg = messages.SNEWSMessageBuilder(detector_name='LZ', \n",
    "                                  machine_time=test_time, \n",
    "                                  neutrino_time=\"2023-06-12 18:30\",  \n",
    "                                  is_test=False)"
   ]
  },
  {
   "cell_type": "markdown",
   "id": "8ba01c1d",
   "metadata": {},
   "source": [
    "**4) p values beyond 0 and 1**"
   ]
  },
  {
   "cell_type": "code",
   "execution_count": null,
   "id": "eb955586",
   "metadata": {},
   "outputs": [],
   "source": [
    "msg = messages.SNEWSMessageBuilder(detector_name='LZ', \n",
    "                                   machine_time=test_time, \n",
    "                                   p_values=[-0.0007,0.0008,0.0009],\n",
    "                                   t_bin_width=0.07, \n",
    "                                   is_test=False)"
   ]
  },
  {
   "cell_type": "markdown",
   "id": "ec563e38",
   "metadata": {},
   "source": [
    "## Other attributes and functions"
   ]
  },
  {
   "cell_type": "code",
   "execution_count": 8,
   "id": "45f72227",
   "metadata": {},
   "outputs": [],
   "source": [
    "msg = messages.SNEWSMessageBuilder(detector_name='LZ', \n",
    "                                  machine_time=test_time, \n",
    "                                  neutrino_time=test_time, \n",
    "                                  p_val=\"0.000\", \n",
    "                                  p_values=[0.0007,0.0008,0.0009],\n",
    "                                  t_bin_width=0.07, \n",
    "                                  is_test=True,)"
   ]
  },
  {
   "cell_type": "code",
   "execution_count": 9,
   "id": "cfe4b55a",
   "metadata": {},
   "outputs": [
    {
     "data": {
      "text/plain": [
       "\u001b[1mSNEWSCoincidenceTierMessage\n",
       "\u001b[0m---------------------------\n",
       "\u001b[91m            _id : LZ_CoincidenceTier_2023-12-11T15:53:19.155054\n",
       "\u001b[0m\u001b[91m schema_version : 1.3.0\n",
       "\u001b[0m\u001b[91m  detector_name : LZ\n",
       "\u001b[0m\u001b[30m   machine_time : 2023-12-11T15:53:19.155054\n",
       "\u001b[0m\u001b[94m\u001b[1m  neutrino_time : 2023-12-11T15:53:19.155054\n",
       "\u001b[0m\u001b[30m          p_val : 0.000\n",
       "\u001b[0m\u001b[30m        is_test : True\n",
       "\u001b[0m\u001b[96m       p_values : [0.0007, 0.0008, 0.0009]\n",
       "\u001b[0m\u001b[96m    t_bin_width : 0.07\n",
       "\u001b[0m"
      ]
     },
     "execution_count": 9,
     "metadata": {},
     "output_type": "execute_result"
    }
   ],
   "source": [
    "msg.messages[0]"
   ]
  },
  {
   "cell_type": "code",
   "execution_count": 9,
   "id": "09d73658",
   "metadata": {},
   "outputs": [
    {
     "name": "stdout",
     "output_type": "stream",
     "text": [
      "\u001b[94m----------------------------------------------------------------\u001b[0m\n",
      "\u001b[91mSending message to CoincidenceTier on kafka://kafka.scimma.org/snews.experiments-firedrill\u001b[0m\n",
      "_id                :LZ_CoincidenceTier_2023-12-11T15:45:15.394059\n",
      "schema_version     :1.3.0\n",
      "detector_name      :LZ\n",
      "machine_time       :2023-12-11T15:45:15.394059\n",
      "neutrino_time      :2023-12-11T15:45:15.394059\n",
      "p_val              :0.000\n",
      "is_test            :True\n",
      "meta               :\n",
      "sent_time          :2023-12-11T15:45:45.677277\n",
      "\u001b[94m----------------------------------------------------------------\u001b[0m\n",
      "\u001b[91mSending message to SignificanceTier on kafka://kafka.scimma.org/snews.experiments-firedrill\u001b[0m\n",
      "_id                :LZ_SignificanceTier_2023-12-11T15:45:15.394059\n",
      "schema_version     :1.3.0\n",
      "detector_name      :LZ\n",
      "machine_time       :2023-12-11T15:45:15.394059\n",
      "p_values           :[0.0007, 0.0008, 0.0009]\n",
      "t_bin_width        :0.07\n",
      "is_test            :True\n",
      "meta               :\n",
      "sent_time          :2023-12-11T15:45:45.679676\n"
     ]
    }
   ],
   "source": [
    "msg.send_messages()"
   ]
  },
  {
   "cell_type": "markdown",
   "id": "541457ba",
   "metadata": {},
   "source": [
    "Notice below, the fields that do not belong to the tier in question are initially appended as \"meta\" fields. <br>\n",
    "However, when sending the messages to SNEWS, the program checks this and avoids redundancies by only keeping the \"meta\" fields, if the keys are not used in any other valid message."
   ]
  },
  {
   "cell_type": "code",
   "execution_count": 10,
   "id": "08e5425c",
   "metadata": {},
   "outputs": [
    {
     "data": {
      "text/plain": [
       "({'_id': 'LZ_CoincidenceTier_2023-12-11T15:53:19.155054',\n",
       "  'schema_version': '1.3.0',\n",
       "  'detector_name': 'LZ',\n",
       "  'machine_time': '2023-12-11T15:53:19.155054',\n",
       "  'neutrino_time': '2023-12-11T15:53:19.155054',\n",
       "  'p_val': '0.000',\n",
       "  'is_test': True},\n",
       " {'p_values': [0.0007, 0.0008, 0.0009], 't_bin_width': 0.07})"
      ]
     },
     "execution_count": 10,
     "metadata": {},
     "output_type": "execute_result"
    }
   ],
   "source": [
    "msg.messages[0].message_data, msg.messages[0].meta"
   ]
  },
  {
   "cell_type": "code",
   "execution_count": 11,
   "id": "eea25d44",
   "metadata": {},
   "outputs": [
    {
     "data": {
      "text/plain": [
       "({'_id': 'LZ_SignificanceTier_2023-12-11T15:53:19.155054',\n",
       "  'schema_version': '1.3.0',\n",
       "  'detector_name': 'LZ',\n",
       "  'machine_time': '2023-12-11T15:53:19.155054',\n",
       "  'p_values': [0.0007, 0.0008, 0.0009],\n",
       "  't_bin_width': 0.07,\n",
       "  'is_test': True},\n",
       " {'neutrino_time': '2023-12-11T15:53:19.155054', 'p_val': '0.000'})"
      ]
     },
     "execution_count": 11,
     "metadata": {},
     "output_type": "execute_result"
    }
   ],
   "source": [
    "msg.messages[1].message_data, msg.messages[1].meta"
   ]
  },
  {
   "cell_type": "markdown",
   "id": "3413d944",
   "metadata": {},
   "source": [
    "### See the message schemas."
   ]
  },
  {
   "cell_type": "code",
   "execution_count": 12,
   "id": "0625292e",
   "metadata": {},
   "outputs": [
    {
     "name": "stdout",
     "output_type": "stream",
     "text": [
      "\u001b[34m\u001b[47mMessage schema for SNEWSCoincidenceTierMessage\u001b[0m\n",
      "\u001b[91m_id                  : (SET AUTOMATICALLY)\u001b[0m\n",
      "\u001b[91mschema_version       : (SET AUTOMATICALLY)\u001b[0m\n",
      "\u001b[91mdetector_name        : (SET AUTOMATICALLY)\u001b[0m\n",
      "\u001b[94mneutrino_time        : (REQUIRED USER INPUT)\u001b[0m\n",
      "\u001b[96mmachine_time         : (USER INPUT)\u001b[0m\n",
      "\u001b[96mp_val                : (USER INPUT)\u001b[0m\n",
      "\u001b[96mis_test              : (USER INPUT)\u001b[0m\n"
     ]
    }
   ],
   "source": [
    "msg.messages[0].print_schema()"
   ]
  },
  {
   "cell_type": "code",
   "execution_count": 13,
   "id": "4177e2c5",
   "metadata": {},
   "outputs": [
    {
     "name": "stdout",
     "output_type": "stream",
     "text": [
      "\u001b[34m\u001b[47mMessage schema for SNEWSSignificanceTierMessage\u001b[0m\n",
      "\u001b[91m_id                  : (SET AUTOMATICALLY)\u001b[0m\n",
      "\u001b[91mschema_version       : (SET AUTOMATICALLY)\u001b[0m\n",
      "\u001b[91mdetector_name        : (SET AUTOMATICALLY)\u001b[0m\n",
      "\u001b[94mp_values             : (REQUIRED USER INPUT)\u001b[0m\n",
      "\u001b[94mt_bin_width          : (REQUIRED USER INPUT)\u001b[0m\n",
      "\u001b[96mmachine_time         : (USER INPUT)\u001b[0m\n",
      "\u001b[96mis_test              : (USER INPUT)\u001b[0m\n"
     ]
    }
   ],
   "source": [
    "msg.messages[1].print_schema()"
   ]
  },
  {
   "cell_type": "code",
   "execution_count": null,
   "id": "70fff993",
   "metadata": {},
   "outputs": [],
   "source": []
  },
  {
   "cell_type": "code",
   "execution_count": null,
   "id": "c8d7ddf9",
   "metadata": {},
   "outputs": [],
   "source": []
  },
  {
   "cell_type": "code",
   "execution_count": null,
   "id": "13068238",
   "metadata": {},
   "outputs": [],
   "source": []
  }
 ],
 "metadata": {
  "kernelspec": {
   "display_name": "snews",
   "language": "python",
   "name": "snews"
  },
  "language_info": {
   "codemirror_mode": {
    "name": "ipython",
    "version": 3
   },
   "file_extension": ".py",
   "mimetype": "text/x-python",
   "name": "python",
   "nbconvert_exporter": "python",
   "pygments_lexer": "ipython3",
   "version": "3.9.7"
  },
  "vscode": {
   "interpreter": {
    "hash": "f581a8651b7bc0666f0167af942e3b60152ddbb51a5d7dbac8fd8281a3c56e84"
   }
  }
 },
 "nbformat": 4,
 "nbformat_minor": 5
}
